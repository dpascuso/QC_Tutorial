{
 "cells": [
  {
   "cell_type": "markdown",
   "id": "8eea8210",
   "metadata": {},
   "source": [
    "# Superdense Coding Hands-On Notebook\n",
    "\n",
    "This notebook demonstrates the superdense coding protocol: using one shared Bell pair to send two classical bits from Alice to Bob by transmitting only one qubit. We’ll follow these steps:\n",
    "\n",
    "1. **Step 1**: Prepare a Bell pair between Alice (qubit `q[0]`) and Bob (qubit `q[1]`).  \n",
    "2. **Step 2**: Alice encodes two classical bits $(b_0,b_1)$ by applying one of $\\{I,\\,X,\\,Z,\\,X\\,Z\\}$ on her qubit.  \n",
    "3. **Step 3**: Alice “sends” her qubit to Bob (in simulation, it’s already on Bob’s side).  \n",
    "4. **Step 4**: Bob decodes by applying CNOT and Hadamard, then measures both qubits to recover $(b_0,b_1)$.  \n",
    "5. **Step 5**: Simulate and verify that Bob’s measurement outcomes match the encoded bits.\n",
    "\n",
    "Throughout, we’ll hide solution explanations in `<details>` blocks. Make sure to run each code cell in order.\n",
    "\n",
    "---\n",
    "\n",
    "# Step 1: Prepare the Bell Pair\n",
    "\n",
    "**Task**  \n",
    "1. Create a 2-qubit quantum register `q` (where `q[0]` is Alice’s qubit and `q[1]` is Bob’s qubit) and a 2-bit classical register `c` to store Bob’s measurement results.  \n",
    "2. Prepare the Bell state  \n",
    "$$\n",
    "|\\Phi^+\\rangle = \\frac{1}{\\sqrt{2}}\\bigl(|00\\rangle + |11\\rangle\\bigr)\n",
    "$$  \n",
    "by applying a Hadamard on `q[0]` followed by a CNOT from `q[0]` to `q[1]`.  \n",
    "3. Draw the circuit to confirm the Bell-pair preparation.  \n"
   ]
  },
  {
   "cell_type": "code",
   "execution_count": 1,
   "id": "54bcc4e6",
   "metadata": {},
   "outputs": [
    {
     "data": {
      "image/png": "[encoded data removed]",
      "text/plain": [
       "<Figure size 287.294x284.278 with 1 Axes>"
      ]
     },
     "metadata": {},
     "output_type": "display_data"
    }
   ],
   "source": [
    "import qiskit\n",
    "from qiskit import QuantumRegister, ClassicalRegister, QuantumCircuit, transpile\n",
    "from qiskit_aer import AerSimulator\n",
    "from qiskit.visualization import plot_histogram\n",
    "\n",
    "# Create registers\n",
    "qreg = QuantumRegister(2, name='q')    # q[0]=Alice’s qubit, q[1]=Bob’s qubit\n",
    "creg = ClassicalRegister(2, name='c')  # To store Bob’s two bits\n",
    "\n",
    "# Build the circuit\n",
    "qc = QuantumCircuit(qreg, creg)\n",
    "\n",
    "# 1) Hadamard on Alice’s qubit (q[0])\n",
    "qc.h(qreg[0])\n",
    "\n",
    "# 2) CNOT from Alice’s qubit to Bob’s qubit (q[0] -> q[1])\n",
    "qc.cx(qreg[0], qreg[1])\n",
    "\n",
    "# Draw the Bell-pair circuit\n",
    "display(qc.draw('mpl'))"
   ]
  },
  {
   "cell_type": "markdown",
   "id": "ca8ee3e3",
   "metadata": {},
   "source": [
    "<details>\n",
    "<summary><b>Solution Explanation</b></summary>\n",
    "\n",
    "- We initialize a 2-qubit register `q`.  \n",
    "- Applying `qc.h(q[0])` creates $\\frac{|0\\rangle + |1\\rangle}{\\sqrt{2}}$ on Alice’s qubit.  \n",
    "- The subsequent `qc.cx(q[0], q[1])` entangles Alice’s qubit with Bob’s, yielding  \n",
    "  $$\n",
    "  |\\Phi^+\\rangle \n",
    "  = \\frac{1}{\\sqrt{2}}\\bigl(|00\\rangle + |11\\rangle\\bigr).\n",
    "  $$  \n",
    "- At this point, Alice and Bob share one half of a Bell pair each, ready for encoding.  \n",
    "</details>"
   ]
  },
  {
   "cell_type": "markdown",
   "id": "40de3e06",
   "metadata": {},
   "source": [
    "# Step 2: Alice Encodes Two Classical Bits\n",
    "\n",
    "**Task**  \n",
    "1. Choose a two-bit string $(b_0,\\,b_1)$. For demonstration, let’s set $(b_0,b_1) = (1,\\,0)$.  \n",
    "2. Encode these bits on Alice’s qubit `q[0]` by applying:  \n",
    "   - If $(b_0,b_1) = (0,0)$, apply ?\n",
    "   - If $(b_0,b_1) = (1,0)$, apply ?  \n",
    "   - If $(b_0,b_1) = (0,1)$, apply ?  \n",
    "   - If $(b_0,b_1) = (1,1)$, apply ?  \n",
    "3. Draw the circuit to show the encoding operation."
   ]
  },
  {
   "cell_type": "code",
   "execution_count": null,
   "id": "14f8d74c",
   "metadata": {},
   "outputs": [],
   "source": [
    "# For this run, set (b0, b1) = (1, 0)\n",
    "b0, b1 = 1, 0\n",
    "\n",
    "# Apply encoding on Alice’s qubit q[0]:\n",
    "if (b0, b1) == (1, 0):\n",
    "    # <---\n",
    "elif (b0, b1) == (0, 1):\n",
    "    # <---\n",
    "elif (b0, b1) == (1, 1):\n",
    "    # <---\n",
    "    \n",
    "# If (b0, b1) == (0, 0), do nothing\n",
    "\n",
    "# Draw the circuit after encoding\n",
    "qc.draw('mpl')"
   ]
  },
  {
   "cell_type": "markdown",
   "id": "4fad196d",
   "metadata": {},
   "source": [
    "<details>\n",
    "<summary><b>Solution Explanation</b></summary>\n",
    "\n",
    "- We pick $(b_0,b_1) = (1,0)$. According to the protocol:  \n",
    "  - For $(1,0)$, Alice applies an $X$ gate on her half of the Bell pair.  \n",
    "- The code above checks which two-bit pattern we want to send and applies the corresponding gates on `q[0]`.  \n",
    "- After this step, Alice’s qubit has been “flipped” from the Bell basis; sending it to Bob will allow him to recover $(b_0,b_1)$.  \n",
    "</details>"
   ]
  },
  {
   "cell_type": "markdown",
   "id": "82645ca5",
   "metadata": {},
   "source": [
    "# Step 3: “Send” Alice’s Qubit to Bob\n",
    "\n",
    "**Task**  \n",
    "1. In a physical setup, Alice would transmit qubit `q[0]` to Bob. In simulation, both qubits are already in one register, so no explicit code is needed.  \n",
    "2. We simply note that from this point, Bob has both qubits.  \n",
    "3. Draw the circuit again to show that no gates are applied in this “transmission” step."
   ]
  },
  {
   "cell_type": "code",
   "execution_count": null,
   "id": "fd2032f4",
   "metadata": {},
   "outputs": [],
   "source": [
    "# No additional gates in Step 3; just display the circuit as is\n",
    "qc.draw('mpl')"
   ]
  },
  {
   "cell_type": "markdown",
   "id": "fb71200b",
   "metadata": {},
   "source": [
    "<details>\n",
    "<summary><b>Solution Explanation</b></summary>\n",
    "\n",
    "- Conceptually, Alice’s qubit is sent to Bob. In our simulator, both qubits reside in the same quantum register, so there is no explicit “send” operation.  \n",
    "- This step is a placeholder to emphasize that Alice’s qubit is now under Bob’s control for decoding.  \n",
    "</details>"
   ]
  },
  {
   "cell_type": "markdown",
   "id": "604ac1d5",
   "metadata": {},
   "source": [
    "# Step 4: Bob Decodes and Measures\n",
    "\n",
    "**Task**  \n",
    "1. Bob now holds both qubits (`q[0]` and `q[1]`). To decode the two classical bits, he applies:  \n",
    "   - CNOT from `q[0]` (the qubit Alice sent) to `q[1]`,  \n",
    "   - Hadamard on `q[0]`.  \n",
    "2. Measure both qubits `q[0]` and `q[1]` into classical bits `c[0]` and `c[1]`, respectively.  \n",
    "3. Draw the final decoding circuit.\n"
   ]
  },
  {
   "cell_type": "code",
   "execution_count": null,
   "id": "9c137095",
   "metadata": {},
   "outputs": [],
   "source": [
    "# 1) Bob’s decoding operations\n",
    " # < ---\n",
    " # < ---\n",
    "\n",
    "# 2) Measure both qubits into classical register\n",
    "qc.measure(qreg[0], creg[0])  # q[0] → c[0]\n",
    "qc.measure(qreg[1], creg[1])  # q[1] → c[1]\n",
    "\n",
    "# 3) Draw the full circuit including decoding\n",
    "qc.draw('mpl')"
   ]
  },
  {
   "cell_type": "markdown",
   "id": "b94fd67b",
   "metadata": {},
   "source": [
    "<details>\n",
    "<summary><b>Solution Explanation</b></summary>\n",
    "\n",
    "- After receiving Alice’s qubit, Bob applies `qc.cx(q[0], q[1])` to “undo” the entanglement pattern.  \n",
    "- Then `qc.h(q[0])` rotates into the computational basis, such that:  \n",
    "  - Measuring `q[0]` → `c[0]` yields $b_0$.  \n",
    "  - Measuring `q[1]` → `c[1]` yields $b_1$.  \n",
    "- Thus Bob recovers the original two classical bits $(b_0,b_1)$.  \n",
    "</details>\n"
   ]
  },
  {
   "cell_type": "markdown",
   "id": "03ea0eec",
   "metadata": {},
   "source": [
    "# Step 5: Simulate and Verify\n",
    "\n",
    "**Task**  \n",
    "1. Use `AerSimulator` to run the full circuit (steps 1–4) with 1024 shots.  \n",
    "2. Collect counts for the two-bit string `(c[0] c[1])`.  \n",
    "3. Confirm that Bob’s measurement outcomes match the encoded bits $(b_0,b_1)=(1,0)$ with high probability.  \n",
    "4. (Optional) Repeat for all four possible encodings to observe the mapping.  \n",
    "5. Plot the histogram of the two-bit outcomes.\n"
   ]
  },
  {
   "cell_type": "code",
   "execution_count": null,
   "id": "670e37a0",
   "metadata": {},
   "outputs": [],
   "source": [
    "# Step 5: Simulate the circuit\n",
    "\n",
    "simulator = AerSimulator()\n",
    "compiled_qc = transpile(qc, simulator)\n",
    "\n",
    "# Run with 1024 shots\n",
    "job = simulator.run(compiled_qc, shots=1024)\n",
    "result = job.result()\n",
    "counts = result.get_counts()\n",
    "\n",
    "# Print the raw two-bit counts\n",
    "print(\"Counts for (c0 c1):\", counts)\n",
    "\n",
    "# Plot a histogram\n",
    "plot_histogram(counts)"
   ]
  },
  {
   "cell_type": "markdown",
   "id": "1b333eb8",
   "metadata": {},
   "source": [
    "<details>\n",
    "<summary><b>Solution Explanation</b></summary>\n",
    "\n",
    "1. We compile and run `qc` on `AerSimulator` for 1024 shots.  \n",
    "2. The dictionary `counts` maps two-bit strings (e.g. `'10'`, `'01'`, etc.) to the number of occurrences.  \n",
    "3. Since $(b_0,b_1)=(1,0)$, we expect Bob’s measurement to yield `c[0]=1` and `c[1]=0` (i.e.\\ the key `'10'`) almost every time (modulo shot noise).  \n",
    "4. If you wish, repeat the notebook above for $(0,0)$, $(0,1)$, and $(1,1)$. In each case, you should see the single dominant count corresponding to the two classical bits Alice encoded.  \n",
    "5. The histogram visually confirms Bob recovered the correct two bits.  \n",
    "</details>\n"
   ]
  },
  {
   "cell_type": "markdown",
   "id": "653d9269",
   "metadata": {},
   "source": [
    "# (Optional) Extension: All Four Encodings\n",
    "\n",
    "**Task**  \n",
    "1. Automate the four possibilities $(b_0,b_1)\\in\\{(0,0),(1,0),(0,1),(1,1)\\}$.  \n",
    "2. For each pair, build a fresh circuit, run 512 shots, and record the measured two bits.  \n",
    "3. Display the full table of results.\n"
   ]
  },
  {
   "cell_type": "code",
   "execution_count": null,
   "id": "0c988a9d",
   "metadata": {},
   "outputs": [],
   "source": []
  }
 ],
 "metadata": {
  "kernelspec": {
   "display_name": "quantum_computing",
   "language": "python",
   "name": "quantum_computing"
  },
  "language_info": {
   "codemirror_mode": {
    "name": "ipython",
    "version": 3
   },
   "file_extension": ".py",
   "mimetype": "text/x-python",
   "name": "python",
   "nbconvert_exporter": "python",
   "pygments_lexer": "ipython3",
   "version": "3.13.2"
  }
 },
 "nbformat": 4,
 "nbformat_minor": 5
}
